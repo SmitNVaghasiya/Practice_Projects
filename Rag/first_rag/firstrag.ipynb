{
 "cells": [
  {
   "cell_type": "code",
   "execution_count": 1,
   "id": "94b7de32",
   "metadata": {},
   "outputs": [],
   "source": [
    "from langchain_community.document_loaders import TextLoader"
   ]
  },
  {
   "cell_type": "code",
   "execution_count": 2,
   "id": "04f9a89b",
   "metadata": {},
   "outputs": [
    {
     "data": {
      "text/plain": [
       "[Document(metadata={'source': './files/speech.txt'}, page_content='The world must be made safe for democracy. Its peace must be planted upon the tested foundations of political liberty. We have no selfish ends to serve. We desire no conquest, no dominion. We seek no indemnities for ourselves, no material compensation for the sacrifices we shall freely make. We are but one of the champions of the rights of mankind. We shall be satisfied when those rights have been made as secure as the faith and the freedom of nations can make them.\\n\\nJust because we fight without rancor and without selfish object, seeking nothing for ourselves but what we shall wish to share with all free peoples, we shall, I feel confident, conduct our operations as belligerents without passion and ourselves observe with proud punctilio the principles of right and of fair play we profess to be fighting for.\\n\\nâ€¦\\n\\nIt will be all the easier for us to conduct ourselves as belligerents in a high spirit of right and fairness because we act without animus, not in enmity toward a people or with the desire to bring any injury or disadvantage upon them, but only in armed opposition to an irresponsible government which has thrown aside all considerations of humanity and of right and is running amuck. We are, let me say again, the sincere friends of the German people, and shall desire nothing so much as the early reestablishment of intimate relations of mutual advantage between usâ€”however hard it may be for them, for the time being, to believe that this is spoken from our hearts.\\n\\nWe have borne with their present government through all these bitter months because of that friendshipâ€”exercising a patience and forbearance which would otherwise have been impossible. We shall, happily, still have an opportunity to prove that friendship in our daily attitude and actions toward the millions of men and women of German birth and native sympathy who live among us and share our life, and we shall be proud to prove it toward all who are in fact loyal to their neighbors and to the government in the hour of test. They are, most of them, as true and loyal Americans as if they had never known any other fealty or allegiance. They will be prompt to stand with us in rebuking and restraining the few who may be of a different mind and purpose. If there should be disloyalty, it will be dealt with with a firm hand of stern repression; but, if it lifts its head at all, it will lift it only here and there and without countenance except from a lawless and malignant few.\\n\\nIt is a distressing and oppressive duty, gentlemen of the Congress, which I have performed in thus addressing you. There are, it may be, many months of fiery trial and sacrifice ahead of us. It is a fearful thing to lead this great peaceful people into war, into the most terrible and disastrous of all wars, civilization itself seeming to be in the balance. But the right is more precious than peace, and we shall fight for the things which we have always carried nearest our heartsâ€”for democracy, for the right of those who submit to authority to have a voice in their own governments, for the rights and liberties of small nations, for a universal dominion of right by such a concert of free peoples as shall bring peace and safety to all nations and make the world itself at last free.\\n\\nTo such a task we can dedicate our lives and our fortunes, everything that we are and everything that we have, with the pride of those who know that the day has come when America is privileged to spend her blood and her might for the principles that gave her birth and happiness and the peace which she has treasured. God helping her, she can do no other.')]"
      ]
     },
     "execution_count": 2,
     "metadata": {},
     "output_type": "execute_result"
    }
   ],
   "source": [
    "temp_text_loader = TextLoader('./files/speech.txt')\n",
    "temp_text_loader.load()"
   ]
  },
  {
   "cell_type": "markdown",
   "id": "ef3fd3b6",
   "metadata": {},
   "source": [
    "I was getting the error for encoding so i first find the encoding and then specified to text loader."
   ]
  },
  {
   "cell_type": "code",
   "execution_count": 3,
   "id": "e71265c1",
   "metadata": {},
   "outputs": [],
   "source": [
    "from langchain_community.document_loaders import TextLoader,PyPDFLoader\n",
    "from langchain_text_splitters import RecursiveCharacterTextSplitter\n",
    "import chardet\n",
    "import re\n",
    "import os\n",
    "\n",
    "def chunk_generator(file):\n",
    "\n",
    "    if not os.path.exists(file):\n",
    "        raise FileNotFoundError(f\"The file {file} does not exist.\")\n",
    "\n",
    "    split = os.path.splitext(file)\n",
    "    file_type = split[1].lower()\n",
    "\n",
    "    # Find the encoding type as sometimes it can't find automatically and needed for loading the data\n",
    "    encoding_type = None\n",
    "    if file_type != '.pdf':\n",
    "        try:\n",
    "            with open(file, 'rb') as f:\n",
    "                result = chardet.detect(f.read())\n",
    "                encoding_type = result['encoding']\n",
    "        except Exception as e:\n",
    "            raise RuntimeError(f\"Error detecting encoding for {file}: {str(e)}\")\n",
    "\n",
    "    try:\n",
    "        if file_type == '.pdf':\n",
    "            document = PyPDFLoader(file).load()\n",
    "            # OR\n",
    "            # document = PyPDFLoader(file)\n",
    "            # document.load()\n",
    "        else:\n",
    "            document = TextLoader(file, encoding = encoding_type).load()\n",
    "\n",
    "    except Exception as e:\n",
    "        raise RuntimeError(f\"Error loading {file}: {str(e)}\")\n",
    "    \n",
    "    for chunk in document:\n",
    "        chunk.page_content = re.sub(r'\\s+', ' ', chunk.page_content).strip()\n",
    "        chunk.page_content = re.sub(r'-+', '-', chunk.page_content).strip()\n",
    "        \n",
    "\n",
    "    text_splitter = RecursiveCharacterTextSplitter(\n",
    "        chunk_size = 1000,\n",
    "        chunk_overlap = 200\n",
    "    )\n",
    "    splitted_chunks = text_splitter.split_documents(document)\n",
    "\n",
    "    print(f\"Number of chunks: {len(splitted_chunks)}\")\n",
    "    print(f\"First two chunks: {splitted_chunks[:2]}\")\n",
    "    return splitted_chunks"
   ]
  },
  {
   "cell_type": "code",
   "execution_count": 6,
   "id": "97fe6527",
   "metadata": {},
   "outputs": [
    {
     "name": "stdout",
     "output_type": "stream",
     "text": [
      "Number of chunks: 257\n",
      "First two chunks: [Document(metadata={'source': './files/software_engineering.mdx'}, page_content='- title: Software Engineering date: \"2023-12-24T00:00:00Z\" modifiedTime: \"2023-12-27T02:00:00Z\" tags: [\"Computer Engineering\", \"Semester 5\", \"Software Engineering\"] summary: - ## Three Marks ### What is Agile Manifesto? - The Agile Manifesto is a foundational document that outlines the core values and principles of agile software development. It serves as a guiding philosophy for agile methodologies in software development. The manifesto was created by a group of software developers who gathered at the Snowbird ski resort in Utah in 2001. - The Agile Manifesto consists of four core values and twelve guiding principles - Absolutely, let\\'s break down the Agile Manifesto values and principles into simpler terms: **Agile Manifesto Values:** 1. People First: 2. Working Software Priority: 3. Customer Collaboration: 4. Adapting to Change: **Agile Manifesto Principles:** 1. Customer Satisfaction Matters: 2. Embrace Changes: 3. Frequent Delivery: 4. Team Collaboration: 5. Support for Team'), Document(metadata={'source': './files/software_engineering.mdx'}, page_content='Customer Collaboration: 4. Adapting to Change: **Agile Manifesto Principles:** 1. Customer Satisfaction Matters: 2. Embrace Changes: 3. Frequent Delivery: 4. Team Collaboration: 5. Support for Team Members: 6. Face-to-Face Communication: ### Compare Waterfall model with RAD model. | **Aspect** | **Waterfall Model** | **RAD Model** | | - | - | - | | Approach | Sequential, linear | Iterative, flexible | | Development Flow | Sequential phases: Requirements ➡ Design ➡ Implementation ➡ Testing ➡ Deployment | Iterative cycles: Quick iterations and prototypes | | Documentation | Emphasizes extensive documentation at each stage | Prioritizes working software over extensive documentation | | Adaptability to Changes | Less adaptable once a phase is completed | More adaptable to changes, especially during iterations | | User Involvement | User involvement primarily at the beginning and end | Heavy user involvement and feedback throughout | | Suitability | Well-defined and stable requirements |')]\n",
      "Number of chunks: 2250\n",
      "First two chunks: [Document(metadata={'producer': '-|-  this layout: pidus  -|-', 'creator': '-|-  this layout: pidus  -|-', 'creationdate': '2014-11-04T20:40:02-05:00', 'title': '', 'author': '', 'moddate': '2014-11-05T07:52:15-05:00', 'subject': '', 'keywords': '', 'pxcviewerinfo': \"PDF-XChange Viewer;2.5.196.0;Jun 30 2011;20:40:17;D:20141105075215-05'00'\", 'source': './files/Cryptography and Network Security.pdf', 'total_pages': 760, 'page': 1, 'page_label': 'FM1'}, page_content='ONLINE ACCESS for Cryptography and Network Security: Principles and Practice, Sixth Edition Thank you for purchasing a new copy of Cryptography and Network Security: Principles and Practice, Sixth Edition. Your textbook includes six months of prepaid access to the book’s Premium Web site. This prepaid subscription provides you with full access to the following student support areas: • VideoNotes are step-by-step video tutorials specifically designed to enhance the programming concepts presented in this textbook • Online Chapters • Online Appendices • Supplemental homework problems with solutions • Supplemental papers for reading Note that this prepaid subscription does not include access to MyProgrammingLab, which is available at http://www.myprogramminglab.com for purchase. Use a coin to scratch off the coating and reveal your student access code. Do not use a knife or other sharp object as it may damage the code. To access the Cryptography and Network Security: Principles and'), Document(metadata={'producer': '-|-  this layout: pidus  -|-', 'creator': '-|-  this layout: pidus  -|-', 'creationdate': '2014-11-04T20:40:02-05:00', 'title': '', 'author': '', 'moddate': '2014-11-05T07:52:15-05:00', 'subject': '', 'keywords': '', 'pxcviewerinfo': \"PDF-XChange Viewer;2.5.196.0;Jun 30 2011;20:40:17;D:20141105075215-05'00'\", 'source': './files/Cryptography and Network Security.pdf', 'total_pages': 760, 'page': 1, 'page_label': 'FM1'}, page_content='to scratch off the coating and reveal your student access code. Do not use a knife or other sharp object as it may damage the code. To access the Cryptography and Network Security: Principles and Practice, Sixth Edition, Premium Web site for the first time, you will need to register online using a computer with an Internet connection and a web browser. The process takes just a couple of minutes and only needs to be completed once. 1. Go to http://www.pearsonhighered.com/stallings/ 2. Click on Premium Web site. 3. Click on the Register button. 4. On the registration page, enter your student access code* found beneath the scratch-off panel. Do not type the dashes. You can use lower- or uppercase. 5. Follow the on-screen instructions. If you need help at any time during the online registration process, simply click the Need Help? icon. 6. Once your personal Login Name and Password are confirmed, you can begin using the Cryptography and Network Security: Principles and Practice, Sixth')]\n"
     ]
    }
   ],
   "source": [
    "file1 = './files/software_engineering.mdx'\n",
    "file2 = './files/Cryptography and Network Security.pdf'\n",
    "\n",
    "splitted_chunks_1 = chunk_generator(file1)\n",
    "splitted_chunks_2 = chunk_generator(file2)"
   ]
  },
  {
   "cell_type": "markdown",
   "id": "fb455fd6",
   "metadata": {},
   "source": [
    "Because i do not open ai paid version free api always shown limit exceeded so i use huggingface embeding as it do not reuqire any api implimentation."
   ]
  },
  {
   "cell_type": "code",
   "execution_count": 7,
   "id": "a5e3d531",
   "metadata": {},
   "outputs": [],
   "source": [
    "# # # from langchain_openai import OpenAIEmbeddings\n",
    "# # # from langchain_google_vertexai import VertexAIEmbeddings\n",
    "# from langchain_huggingface import HuggingFaceEmbeddings\n",
    "# from langchain_community.vectorstores import Chroma\n",
    "# # # from dotenv import load_dotenv\n",
    "\n",
    "# # # load_dotenv()\n",
    "# # # os.environ[\"OPENAI_API_KEY\"] = os.getenv('OPENAI_API_KEY')\n",
    "\n",
    "\n",
    "# db = Chroma.from_documents(\n",
    "#     splitted_chunks_1,\n",
    "#     HuggingFaceEmbeddings(),\n",
    "#     persist_directory=\"./chroma_db/se_vector\",\n",
    "# )"
   ]
  },
  {
   "cell_type": "code",
   "execution_count": 13,
   "id": "f3480029",
   "metadata": {},
   "outputs": [],
   "source": [
    "from langchain_huggingface import HuggingFaceEmbeddings\n",
    "from langchain_community.vectorstores import Chroma\n",
    "\n",
    "def vector_generator(splitted_chunks, db_name):\n",
    "    db_name = './chroma_db/' + str(db_name)\n",
    "    db = Chroma.from_documents(\n",
    "        splitted_chunks,\n",
    "        HuggingFaceEmbeddings(),\n",
    "        persist_directory = db_name\n",
    "    )\n",
    "\n",
    "    return db"
   ]
  },
  {
   "cell_type": "code",
   "execution_count": 9,
   "id": "8c1c8406",
   "metadata": {},
   "outputs": [
    {
     "name": "stderr",
     "output_type": "stream",
     "text": [
      "C:\\Users\\Smit Vaghasiya\\AppData\\Roaming\\Python\\Python313\\site-packages\\tqdm\\auto.py:21: TqdmWarning: IProgress not found. Please update jupyter and ipywidgets. See https://ipywidgets.readthedocs.io/en/stable/user_install.html\n",
      "  from .autonotebook import tqdm as notebook_tqdm\n"
     ]
    }
   ],
   "source": [
    "db_name = \"se_vector\"\n",
    "db1 = vector_generator(splitted_chunks_1, db_name)"
   ]
  },
  {
   "cell_type": "code",
   "execution_count": null,
   "id": "948acecc",
   "metadata": {},
   "outputs": [
    {
     "name": "stdout",
     "output_type": "stream",
     "text": [
      "during verification and validation processes: - Black-box testing, white-box testing, integration testing, system testing, acceptance testing, etc. - Uncover defects and ensure the software meets specified requirements and user expectations. ### What is Requirement Engineering? How it is carried out in a Software Organizations? Requirement Engineering involves gathering, analyzing, documenting, and managing requirements for a software system. In software organizations, Requirement Engineering is conducted through several key steps: 1. **Elicitation:** Gathering requirements by interacting with stakeholders, users, and customers to comprehend their needs. 2. **Analysis:** Understanding and examining collected requirements to ensure they are consistent, complete, and feasible. 3. **Specification:** Documenting requirements in a clear and understandable manner, often using formats like use cases, user stories, or requirement documents. 4. **Validation:** Verifying if the specified\n"
     ]
    }
   ],
   "source": [
    "query = \"What is Requirement Engineering? \"\n",
    "retrieved_results = db1.similarity_search(query)\n",
    "for chunk in retrieved_results[:5]:\n",
    "    print(chunk.page_content)"
   ]
  },
  {
   "cell_type": "code",
   "execution_count": 11,
   "id": "ecc8c988",
   "metadata": {},
   "outputs": [],
   "source": [
    "db_name = \"cn_vector\"\n",
    "db2 = vector_generator(splitted_chunks_2, db_name)"
   ]
  },
  {
   "cell_type": "code",
   "execution_count": 20,
   "id": "e9068b6f",
   "metadata": {},
   "outputs": [
    {
     "name": "stdout",
     "output_type": "stream",
     "text": [
      "7 The papers to read are [WARE79], [BROW72], [SALT75], [SHAN77], and [SUMM84]. Two more recent, short treatments of computer security are [ANDR04] and [LAMP04]. [NIST95] is an exhaustive (290 pages) treatment of the subject. Another good treatment is [NRC91]. Also useful is [FRAS97]. 7These classic papers are available in the Premium Content Web site for this book. ANDR04 Andrews, M., and Whittaker, J. “Computer Security.” IEEE Security and Privacy, September/October 2004. BROW72 Browne, P. “Computer Security—A Survey.” ACM SIGMIS Database, Fall 1972. FRAS97 Fraser, B. Site Security Handbook. RFC 2196, September 1997. LAMP04 Lampson, B. “Computer Security in the Real World,” Computer, June 2004. NIST95 National Institute of Standards and Technology. An Introduction to Computer Security: The NIST Handbook. Special Publication 800–12, October 1995. NRC91 National Research Council. Computers at Risk: Safe Computing in the Information Age. Washington, D.C.: National Academy Press, 1991.\n",
      "failure occurs. 8. Security requires regular, even constant, monitoring, and this is difficult in today’s short-term, overloaded environment. 9. Security is still too often an afterthought to be incorporated into a system after the design is complete rather than being an integral part of the design process. 10. Many users and even security administrators view strong security as an impedi- ment to efficient and user-friendly operation of an information system or use of information. The difficulties just enumerated will be encountered in numerous ways as we examine the various security threats and mechanisms throughout this book.\n",
      "Parts One through Five of this book concentrate on the types of security mech- anisms and services that fit into the model shown in Figure 1.2. However, there are other security-related situations of interest that do not neatly fit this model but are considered in this book. A general model of these other situations is illustrated in Figure 1.3, which reflects a concern for protecting an information system from un- wanted access. Most readers are familiar with the concerns caused by the existence of hackers, who attempt to penetrate systems that can be accessed over a network. The hacker can be someone who, with no malign intent, simply gets satisfaction from breaking and entering a computer system. The intruder can be a disgruntled employee who wishes to do damage or a criminal who seeks to exploit computer assets for financial gain (e.g., obtaining credit card numbers or performing illegal money transfers). Another type of unwanted access is the placement in a computer system of\n",
      "The NIST Handbook. Special Publication 800–12, October 1995. NRC91 National Research Council. Computers at Risk: Safe Computing in the Information Age. Washington, D.C.: National Academy Press, 1991. SALT75 Saltzer, J., and Schroeder, M. “The Protection of Information in Computer Systems.” Proceedings of the IEEE, September 1975. SCHN00 Schneier, B. Secrets and Lies: Digital Security in a Networked World. New York: Wiley, 2000.\n"
     ]
    }
   ],
   "source": [
    "query = \"The Challenges of Computer Security\"\n",
    "retrieved_results = db2.similarity_search(query)\n",
    "for chunk in retrieved_results[:5]:\n",
    "    print(chunk.page_content)"
   ]
  },
  {
   "cell_type": "code",
   "execution_count": null,
   "id": "e03a6802",
   "metadata": {},
   "outputs": [],
   "source": [
    "from langchain_huggingface import HuggingFaceEmbeddings\n",
    "from langchain_community.vectorstores import Chroma\n",
    "from langchain.chains import RetrievalQA\n",
    "from langchain.prompts import PromptTemplate\n",
    "from langchain_groq import ChatGroq\n",
    "from dotenv import load_dotenv\n",
    "import os\n",
    "\n",
    "def chat_module(query):\n",
    "    load_dotenv()\n",
    "    os.environ[\"GROQ_API_KEY\"] = os.getenv(\"GROQ_API_KEY\")\n",
    "\n",
    "    db_name = \"cn_vector\"\n",
    "    db = Chroma(\n",
    "        persist_directory=f\"./chroma_db/{db_name}\",\n",
    "        embedding_function=HuggingFaceEmbeddings()\n",
    "    )\n",
    "\n",
    "    llm = ChatGroq(\n",
    "        model_name=\"llama3-8b-8192\",\n",
    "        temperature=0.5,\n",
    "        max_tokens=1000\n",
    "    )\n",
    "\n",
    "    prompt_template = \"\"\"\n",
    "    You are an AI assistant designed to answer questions based solely on the provided context.\n",
    "    Do not include information outside the given context. If the context is not relevant to the question, \n",
    "    state that no relevant information is available.And explain this topic in the full detail acorrding the context given.\n",
    "    Context: {context}\n",
    "    Question: {question}\n",
    "    Answer:\n",
    "    \"\"\"\n",
    "\n",
    "    prompt = PromptTemplate(template=prompt_template, input_variables=[\"context\", \"question\"])\n",
    "\n",
    "    qa_chain = RetrievalQA.from_chain_type(\n",
    "        llm=llm,\n",
    "        chain_type=\"stuff\",\n",
    "        retriever=db.as_retriever(search_kwargs={\"k\": 5}),\n",
    "        chain_type_kwargs={\"prompt\": prompt}\n",
    "    )\n",
    "\n",
    "    result = qa_chain.run(query)\n",
    "    return result"
   ]
  },
  {
   "cell_type": "code",
   "execution_count": 14,
   "id": "69efd9fc",
   "metadata": {},
   "outputs": [
    {
     "name": "stdout",
     "output_type": "stream",
     "text": [
      "Based on the provided context, I will provide a detailed explanation of cryptography and its uses.\n",
      "\n",
      "**What is Cryptography?**\n",
      "\n",
      "Cryptography is the practice and study of techniques for secure communication by transforming plaintext (readable data) into ciphertext (unreadable data) to prevent unauthorized access. It involves the use of algorithms and protocols to encrypt and decrypt data, ensuring the confidentiality, integrity, and authenticity of the information.\n",
      "\n",
      "**Uses of Cryptography**\n",
      "\n",
      "1. **Encryption**: Cryptography is used to encrypt data to prevent unauthorized access. This is done by using algorithms and keys to transform plaintext into ciphertext.\n",
      "2. **Decryption**: Cryptography is also used to decrypt data, allowing authorized parties to access the original plaintext.\n",
      "3. **Authentication**: Cryptography is used to verify the authenticity of data, ensuring that it has not been tampered with or altered during transmission.\n",
      "4. **Integrity**: Cryptography is used to ensure the integrity of data, preventing unauthorized changes or alterations.\n",
      "5. **Digital Signatures**: Cryptography is used to create digital signatures, which are used to verify the authenticity and integrity of digital messages.\n",
      "6. **Secure Communication**: Cryptography is used to establish secure communication channels, ensuring that data transmitted over public networks remains confidential and secure.\n",
      "7. **Access Control**: Cryptography is used to control access to sensitive information, ensuring that only authorized parties can access the data.\n",
      "\n",
      "**Types of Cryptography**\n",
      "\n",
      "1. **Symmetric Cryptography**: Uses the same key for both encryption and decryption.\n",
      "2. **Asymmetric Cryptography**: Uses a public and private key pair, where the public key is used for encryption and the private key is used for decryption.\n",
      "\n",
      "**Examples of Cryptographic Algorithms**\n",
      "\n",
      "1. **AES (Advanced Encryption Standard)**: A widely used symmetric encryption algorithm.\n",
      "2. **RSA (Rivest-Shamir-Adleman)**: A widely used asymmetric encryption algorithm.\n",
      "3. **ECDSA (Elliptic Curve Digital Signature Algorithm)**: A digital signature algorithm used for secure communication.\n",
      "\n",
      "**Real-World Applications of Cryptography**\n",
      "\n",
      "1. **Secure Online Transactions**: Cryptography is used to secure online transactions, such as online banking and e-commerce.\n",
      "2. **Email Security**: Cryptography is used to secure email communication, ensuring that emails remain confidential and secure.\n",
      "3. **Virtual Private Networks (VPNs)**: Cryptography is used to secure VPN connections, ensuring that data transmitted over public networks remains confidential and secure.\n",
      "4. **Secure Communication Protocols**: Cryptography is used to establish secure communication protocols, such as SSL/TLS and IPsec.\n",
      "\n",
      "In summary, cryptography is a crucial aspect of modern computing, providing secure communication and data protection. Its uses are diverse, ranging from encryption and decryption to authentication and digital signatures.\n"
     ]
    }
   ],
   "source": [
    "query = input(\"Ask me any question related to cryptography you want to know about: \")\n",
    "print(chat_module(query))"
   ]
  }
 ],
 "metadata": {
  "kernelspec": {
   "display_name": "Python 3",
   "language": "python",
   "name": "python3"
  },
  "language_info": {
   "codemirror_mode": {
    "name": "ipython",
    "version": 3
   },
   "file_extension": ".py",
   "mimetype": "text/x-python",
   "name": "python",
   "nbconvert_exporter": "python",
   "pygments_lexer": "ipython3",
   "version": "3.13.3"
  }
 },
 "nbformat": 4,
 "nbformat_minor": 5
}
